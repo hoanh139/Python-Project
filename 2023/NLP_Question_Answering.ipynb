{
 "cells": [
  {
   "cell_type": "code",
   "execution_count": 19,
   "metadata": {
    "collapsed": true,
    "ExecuteTime": {
     "start_time": "2023-06-13T20:32:37.092439Z",
     "end_time": "2023-06-13T20:32:37.108704Z"
    }
   },
   "outputs": [],
   "source": [
    "import pandas as pd\n",
    "import sys\n",
    "import spacy\n",
    "from spacy.tokens import Doc\n",
    "from spacy.tokens import Token\n",
    "\n",
    "train_data = pd.read_csv('/Users/hoanh139/Desktop/pythonProject/NLP_QA/QA_train_data.csv')\n",
    "test_data = pd.read_csv('/Users/hoanh139/Desktop/pythonProject/NLP_QA//QA_test_data.csv')"
   ]
  },
  {
   "cell_type": "code",
   "execution_count": 20,
   "outputs": [],
   "source": [
    "nlp = spacy.load(\"en_core_web_sm\")\n",
    "question_words = ['which', 'what', 'when', 'who', 'how', 'why']\n",
    "\n",
    "\n",
    "def extract_question_word(doc: Doc) -> Token:\n",
    "    question_word = [tok for tok in doc if tok.lemma_.lower() in question_words]\n",
    "\n",
    "    return next(iter(question_word), None)\n",
    "\n",
    "\n",
    "def calculate_similarity_for_question_word(doc: Doc, compare_doc: Doc) -> float:\n",
    "    question_word = extract_question_word(doc)\n",
    "    compare_question_word = extract_question_word(compare_doc)\n",
    "\n",
    "    empty_token = nlp.tokenizer(\"\")\n",
    "\n",
    "    similarity = 0.0\n",
    "\n",
    "    if question_word is None and compare_question_word is None:\n",
    "        similarity = 1.0\n",
    "    elif question_word is None:\n",
    "        similarity = empty_token.similarity(compare_question_word)\n",
    "    elif compare_question_word is None:\n",
    "        similarity = question_word.similarity(empty_token)\n",
    "    else:\n",
    "        similarity = question_word.similarity(compare_question_word)\n",
    "\n",
    "    return similarity\n",
    "\n",
    "\n",
    "def remove_stop_words(text: str) -> str:\n",
    "    return ' '.join(token.lemma_ for token in nlp(text) if not token.is_stop)\n",
    "\n",
    "\n",
    "def calculate_similarity_between_tokens(token_list: list, other_token_list: list, number_of_intersecting_tokens: int) -> float:\n",
    "    similarity = 0.0\n",
    "\n",
    "    for t1 in token_list:\n",
    "        for t2 in other_token_list:\n",
    "            similarity += t1.similarity(t2)\n",
    "\n",
    "    return similarity / (len(token_list) * len(other_token_list)) * number_of_intersecting_tokens\n",
    "\n",
    "\n",
    "def calculate_similarity_for_docs(doc: Doc, compare_doc: Doc) -> float:\n",
    "    tokens_without_compare_tokens = list(filter(lambda x: x.text not in [y.text for y in compare_doc], doc))\n",
    "    compare_tokens_without_tokens = list(filter(lambda x: x.text not in [y.text for y in doc], compare_doc))\n",
    "\n",
    "    intersecting_tokens = list(filter(lambda x: x.text in [y.text for y in compare_doc], doc))\n",
    "    number_of_intersecting_tokens = len(intersecting_tokens)\n",
    "\n",
    "    similarity = 0.0\n",
    "\n",
    "    if len(tokens_without_compare_tokens) == 0 and len(compare_tokens_without_tokens) == 0:\n",
    "        similarity = sys.float_info.max\n",
    "    elif len(tokens_without_compare_tokens) == 0:\n",
    "        similarity = calculate_similarity_between_tokens(compare_tokens_without_tokens, intersecting_tokens, number_of_intersecting_tokens)\n",
    "    elif len(compare_tokens_without_tokens) == 0:\n",
    "        similarity = calculate_similarity_between_tokens(tokens_without_compare_tokens, intersecting_tokens, number_of_intersecting_tokens)\n",
    "    else:\n",
    "        similarity = calculate_similarity_between_tokens(tokens_without_compare_tokens, compare_tokens_without_tokens, number_of_intersecting_tokens)\n",
    "\n",
    "    return similarity\n",
    "\n",
    "\n",
    "def calculate_similarity(question: str, compare_question: str) -> float:\n",
    "    question = question.replace(\"?\", \"\")\n",
    "    compare_question = compare_question.replace(\"?\", \"\")\n",
    "\n",
    "    doc = nlp(question)\n",
    "    compare_doc = nlp(compare_question)\n",
    "\n",
    "    question_word_similarity = calculate_similarity_for_question_word(doc, compare_doc)\n",
    "\n",
    "    question_without_stop_words = remove_stop_words(question)\n",
    "    compare_question_without_stop_words = remove_stop_words(compare_question)\n",
    "\n",
    "    doc_without_stop_words = nlp(question_without_stop_words)\n",
    "    compare_doc_without_stop_words = nlp(compare_question_without_stop_words)\n",
    "\n",
    "    similarity = calculate_similarity_for_docs(doc_without_stop_words, compare_doc_without_stop_words)\n",
    "\n",
    "    return question_word_similarity * similarity"
   ],
   "metadata": {
    "collapsed": false,
    "ExecuteTime": {
     "start_time": "2023-06-13T20:32:37.093478Z",
     "end_time": "2023-06-13T20:32:37.347643Z"
    }
   }
  },
  {
   "cell_type": "code",
   "execution_count": 21,
   "outputs": [],
   "source": [
    "def predict_answer(question: str, df: pd.DataFrame):\n",
    "    questions = df['Question']\n",
    "    answers = df['Answer']\n",
    "\n",
    "    similarities = questions.apply(lambda q: calculate_similarity(question, q))\n",
    "\n",
    "    index = similarities.idxmax()\n",
    "    similarity = similarities[index]\n",
    "\n",
    "    if similarity < 1.0:\n",
    "        return None\n",
    "    else:\n",
    "        return answers[index]"
   ],
   "metadata": {
    "collapsed": false,
    "ExecuteTime": {
     "start_time": "2023-06-13T20:32:37.093628Z",
     "end_time": "2023-06-13T20:32:37.350099Z"
    }
   }
  },
  {
   "cell_type": "code",
   "execution_count": 22,
   "outputs": [],
   "source": [
    "predicted = test_data['Question'].apply(lambda q: predict_answer(q))\n",
    "actual = test_data['Answer']"
   ],
   "metadata": {
    "collapsed": false,
    "ExecuteTime": {
     "start_time": "2023-06-12T15:32:33.379525Z",
     "end_time": "2023-06-12T15:32:37.834409Z"
    }
   }
  },
  {
   "cell_type": "code",
   "execution_count": null,
   "outputs": [],
   "source": [
    "def evaluate_result(predicted: str, actual: str) ->int:\n",
    "    if predicted is None:\n",
    "        return 0\n",
    "    elif predicted == actual:\n",
    "        return 1\n",
    "    else:\n",
    "        return -1\n",
    "\n",
    "def evaluate_results(predicted: pd.Series, actual: pd.Series) ->float:\n",
    "    sum=0\n",
    "    for index, value in predicted.items():\n",
    "        eval = evaluate_result(value, actual[index])\n",
    "        sum += eval\n",
    "    result = sum/predicted.size\n",
    "    return result\n",
    "score = evaluate_results(predicted, actual)\n",
    "print('Accuracy: {:.2f}%'.format(score * 100))"
   ],
   "metadata": {
    "collapsed": false,
    "ExecuteTime": {
     "start_time": "2023-06-12T15:32:37.835991Z",
     "end_time": "2023-06-12T15:32:37.838988Z"
    }
   }
  },
  {
   "cell_type": "code",
   "execution_count": null,
   "outputs": [],
   "source": [],
   "metadata": {
    "collapsed": false,
    "ExecuteTime": {
     "start_time": "2023-06-12T15:32:37.839662Z",
     "end_time": "2023-06-12T15:32:37.842039Z"
    }
   }
  }
 ],
 "metadata": {
  "kernelspec": {
   "display_name": "Python 3",
   "language": "python",
   "name": "python3"
  },
  "language_info": {
   "codemirror_mode": {
    "name": "ipython",
    "version": 2
   },
   "file_extension": ".py",
   "mimetype": "text/x-python",
   "name": "python",
   "nbconvert_exporter": "python",
   "pygments_lexer": "ipython2",
   "version": "2.7.6"
  }
 },
 "nbformat": 4,
 "nbformat_minor": 0
}
