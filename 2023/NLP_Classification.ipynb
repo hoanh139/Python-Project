{
 "cells": [
  {
   "cell_type": "markdown",
   "source": [
    "Read CSV File"
   ],
   "metadata": {
    "collapsed": false
   }
  },
  {
   "cell_type": "code",
   "execution_count": 78,
   "metadata": {
    "collapsed": true,
    "ExecuteTime": {
     "start_time": "2023-05-29T16:58:55.918289Z",
     "end_time": "2023-05-29T16:58:55.941125Z"
    }
   },
   "outputs": [
    {
     "data": {
      "text/plain": "   id                                           overview  genre_Drama\n0   1  When Lou, who has become the \"father of the In...            0\n1   2  Mia Thermopolis is now a college graduate and ...            1\n2   3  Under the direction of a ruthless instructor, ...            1\n3   4  Vidya Bagchi (Vidya Balan) arrives in Kolkata ...            1\n4   5  Marine Boy is the story of a former national s...            0",
      "text/html": "<div>\n<style scoped>\n    .dataframe tbody tr th:only-of-type {\n        vertical-align: middle;\n    }\n\n    .dataframe tbody tr th {\n        vertical-align: top;\n    }\n\n    .dataframe thead th {\n        text-align: right;\n    }\n</style>\n<table border=\"1\" class=\"dataframe\">\n  <thead>\n    <tr style=\"text-align: right;\">\n      <th></th>\n      <th>id</th>\n      <th>overview</th>\n      <th>genre_Drama</th>\n    </tr>\n  </thead>\n  <tbody>\n    <tr>\n      <th>0</th>\n      <td>1</td>\n      <td>When Lou, who has become the \"father of the In...</td>\n      <td>0</td>\n    </tr>\n    <tr>\n      <th>1</th>\n      <td>2</td>\n      <td>Mia Thermopolis is now a college graduate and ...</td>\n      <td>1</td>\n    </tr>\n    <tr>\n      <th>2</th>\n      <td>3</td>\n      <td>Under the direction of a ruthless instructor, ...</td>\n      <td>1</td>\n    </tr>\n    <tr>\n      <th>3</th>\n      <td>4</td>\n      <td>Vidya Bagchi (Vidya Balan) arrives in Kolkata ...</td>\n      <td>1</td>\n    </tr>\n    <tr>\n      <th>4</th>\n      <td>5</td>\n      <td>Marine Boy is the story of a former national s...</td>\n      <td>0</td>\n    </tr>\n  </tbody>\n</table>\n</div>"
     },
     "execution_count": 78,
     "metadata": {},
     "output_type": "execute_result"
    }
   ],
   "source": [
    "import csv\n",
    "import pandas as pd\n",
    "from sklearn.feature_extraction.text import CountVectorizer, TfidfTransformer\n",
    "from sklearn.naive_bayes import MultinomialNB\n",
    "from sklearn.svm import SVC\n",
    "from sklearn.pipeline import Pipeline\n",
    "from sklearn.model_selection import cross_val_score\n",
    "\n",
    "\n",
    "data = pd.read_csv(\"/Users/hoanh139/Desktop/pythonProject/Movie_Overview_Classification.csv\",\n",
    "engine = 'python',\n",
    "encoding='utf8',\n",
    "delimiter=',',\n",
    "quotechar='|',\n",
    "quoting=csv.QUOTE_MINIMAL)\n",
    "data.head()"
   ]
  },
  {
   "cell_type": "code",
   "execution_count": 79,
   "outputs": [
    {
     "data": {
      "text/plain": "id             0\noverview       8\ngenre_Drama    0\ndtype: int64"
     },
     "execution_count": 79,
     "metadata": {},
     "output_type": "execute_result"
    }
   ],
   "source": [
    "data.isna().sum()"
   ],
   "metadata": {
    "collapsed": false,
    "ExecuteTime": {
     "start_time": "2023-05-29T16:58:55.941564Z",
     "end_time": "2023-05-29T16:58:55.947608Z"
    }
   }
  },
  {
   "cell_type": "code",
   "execution_count": 80,
   "outputs": [
    {
     "name": "stdout",
     "output_type": "stream",
     "text": [
      "390\n",
      "591\n",
      "977\n",
      "1335\n",
      "1541\n",
      "2150\n",
      "2302\n",
      "2865\n"
     ]
    },
    {
     "data": {
      "text/plain": "id             0\noverview       0\ngenre_Drama    0\ndtype: int64"
     },
     "execution_count": 80,
     "metadata": {},
     "output_type": "execute_result"
    }
   ],
   "source": [
    "index =0;\n",
    "for row in data['overview']:\n",
    "    if (str(row) == 'nan'):\n",
    "        print(index)\n",
    "    index+=1\n",
    "\n",
    "data['overview'] = data['overview'].fillna('Unknown Overview')\n",
    "data.isna().sum()"
   ],
   "metadata": {
    "collapsed": false,
    "ExecuteTime": {
     "start_time": "2023-05-29T16:58:55.946309Z",
     "end_time": "2023-05-29T16:58:55.953128Z"
    }
   }
  },
  {
   "cell_type": "code",
   "execution_count": 81,
   "outputs": [],
   "source": [
    "from sklearn.model_selection import train_test_split\n",
    "\n",
    "text = data['overview']\n",
    "genre = data['genre_Drama']\n",
    "\n",
    "X_train, X_test, y_train, y_test = train_test_split(text, genre, test_size=0.2, random_state=42)\n",
    "\n",
    "text_clf = Pipeline([\n",
    "    ('vect', CountVectorizer(ngram_range=(1, 2))),        # Convert text to token counts\n",
    "    ('tfidf', TfidfTransformer()),      # Apply TF-IDF transformation\n",
    "    ('clf', SVC())             # SVC classifier\n",
    "])"
   ],
   "metadata": {
    "collapsed": false,
    "ExecuteTime": {
     "start_time": "2023-05-29T16:58:55.956709Z",
     "end_time": "2023-05-29T16:58:55.958446Z"
    }
   }
  },
  {
   "cell_type": "code",
   "execution_count": 82,
   "outputs": [
    {
     "name": "stdout",
     "output_type": "stream",
     "text": [
      "Accuracy: 0.6673333333333333\n"
     ]
    }
   ],
   "source": [
    "scores = cross_val_score(text_clf, text, genre)\n",
    "print(f'Accuracy: {scores.mean()}')"
   ],
   "metadata": {
    "collapsed": false,
    "ExecuteTime": {
     "start_time": "2023-05-29T16:58:55.959769Z",
     "end_time": "2023-05-29T16:59:14.215047Z"
    }
   }
  }
 ],
 "metadata": {
  "kernelspec": {
   "display_name": "Python 3",
   "language": "python",
   "name": "python3"
  },
  "language_info": {
   "codemirror_mode": {
    "name": "ipython",
    "version": 2
   },
   "file_extension": ".py",
   "mimetype": "text/x-python",
   "name": "python",
   "nbconvert_exporter": "python",
   "pygments_lexer": "ipython2",
   "version": "2.7.6"
  }
 },
 "nbformat": 4,
 "nbformat_minor": 0
}
