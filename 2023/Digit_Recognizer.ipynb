{
 "cells": [
  {
   "cell_type": "code",
   "execution_count": 11,
   "metadata": {
    "collapsed": true,
    "ExecuteTime": {
     "start_time": "2023-06-25T16:19:10.940516Z",
     "end_time": "2023-06-25T16:19:21.091039Z"
    }
   },
   "outputs": [
    {
     "name": "stdout",
     "output_type": "stream",
     "text": [
      "315/315 [==============================] - 5s 17ms/step - loss: 0.2152 - accuracy: 0.9341\n",
      "875/875 [==============================] - 2s 2ms/step\n"
     ]
    }
   ],
   "source": [
    "from sklearn.model_selection import train_test_split\n",
    "import pandas as pd\n",
    "import numpy as np\n",
    "import keras\n",
    "\n",
    "# loading data\n",
    "train = pd.read_csv('digit-recognizer/train.csv')\n",
    "test = pd.read_csv('digit-recognizer/test.csv')\n",
    "\n",
    "# Split features and labels in training set\n",
    "X = train.drop(labels = ['label'], axis = 1)\n",
    "y = train['label']\n",
    "# One hot encode labels\n",
    "Y = keras.utils.to_categorical(y, num_classes = 10)\n",
    "# Normalize pixel data\n",
    "X = X/255.0\n",
    "test = test/255.0\n",
    "# Reshape image in 3 dimensions (height = 28px, width = 28px , canal = 1)\n",
    "X = X.values.reshape(-1, 28, 28, 1)\n",
    "test = test.values.reshape(-1, 28, 28, 1)\n",
    "\n",
    "from keras.models import Sequential\n",
    "from keras.layers import Conv2D, MaxPooling2D, Flatten, Dense\n",
    "from keras.optimizers.legacy import RMSprop\n",
    "\n",
    "# Split the data in training and test set\n",
    "X_train, X_test, Y_train, Y_test = train_test_split(X, Y)\n",
    "\n",
    "model = Sequential([\n",
    "         Conv2D(32, (3,3), activation='relu', input_shape=(28,28,1)),\n",
    "         MaxPooling2D(2, 2),\n",
    "         Conv2D(64, (3,3), activation='relu'),\n",
    "         MaxPooling2D(2,2),\n",
    "         Flatten(),\n",
    "         Dense(512, activation='relu'),\n",
    "         Dense(10, activation='softmax')\n",
    "])\n",
    "\n",
    "# Compiling model\n",
    "model.compile(optimizer=RMSprop(learning_rate=0.001), loss='categorical_crossentropy', metrics=['accuracy'])\n",
    "\n",
    "# Fitting model\n",
    "history = model.fit(X_train, Y_train, batch_size=100, epochs = 1)\n",
    "\n",
    "# Predict results\n",
    "results = model.predict(test)\n",
    "# One hot decoding: Select the index with the maximum probability\n",
    "results = np.argmax(results, axis = 1)\n",
    "# Add columns ImageID and Label\n",
    "results = pd.Series(results, name=\"Label\")\n",
    "submission = pd.concat([pd.Series(range(1, len(results)+1), name = \"ImageId\"), results], axis = 1)\n",
    "# Generate CSV file\n",
    "submission.to_csv('digit-recognizer/submission.csv', index=False)"
   ]
  },
  {
   "cell_type": "code",
   "execution_count": null,
   "outputs": [],
   "source": [],
   "metadata": {
    "collapsed": false
   }
  }
 ],
 "metadata": {
  "kernelspec": {
   "display_name": "Python 3",
   "language": "python",
   "name": "python3"
  },
  "language_info": {
   "codemirror_mode": {
    "name": "ipython",
    "version": 2
   },
   "file_extension": ".py",
   "mimetype": "text/x-python",
   "name": "python",
   "nbconvert_exporter": "python",
   "pygments_lexer": "ipython2",
   "version": "2.7.6"
  }
 },
 "nbformat": 4,
 "nbformat_minor": 0
}
